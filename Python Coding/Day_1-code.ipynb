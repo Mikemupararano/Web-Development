{
 "cells": [
  {
   "cell_type": "code",
   "execution_count": 4,
   "id": "28eb23bf-5946-41db-90e1-de57a0330a3f",
   "metadata": {
    "tags": []
   },
   "outputs": [
    {
     "data": {
      "text/plain": [
       "'My name is Mike Thomas. I am 51 years old. My favourite TV show is the National Geographic.'"
      ]
     },
     "execution_count": 4,
     "metadata": {},
     "output_type": "execute_result"
    }
   ],
   "source": [
    "#Interpolation\n",
    "name=\"Mike Thomas\"\n",
    "age=51\n",
    "favourite_tv_show=\"National Geographic\"\n",
    "f\"My name is {name}. I am {age} years old. My favourite TV show is the {favourite_tv_show}.\"\n",
    "\n"
   ]
  },
  {
   "cell_type": "code",
   "execution_count": null,
   "id": "1e64490f-0442-44df-bff7-c8c7325a7389",
   "metadata": {},
   "outputs": [
    {
     "ename": "",
     "evalue": "",
     "output_type": "error",
     "traceback": [
      "\u001b[1;31mRunning cells with 'c:\\Users\\1Thomas\\AppData\\Local\\Programs\\Python\\Python310\\python.exe' requires ipykernel package.\n",
      "\u001b[1;31mRun the following command to install 'ipykernel' into the Python environment. \n",
      "\u001b[1;31mCommand: 'c:/Users/1Thomas/AppData/Local/Programs/Python/Python310/python.exe -m pip install ipykernel -U --user --force-reinstall'"
     ]
    }
   ],
   "source": [
    "# Using dir() to get all method attributes\n",
    "name\n",
    "dir(name)"
   ]
  },
  {
   "cell_type": "code",
   "execution_count": null,
   "id": "77b8e4bf-e1c3-49cc-9392-6b0ba826e4a3",
   "metadata": {},
   "outputs": [
    {
     "data": {
      "text/plain": [
       "\"MY FATHER'S NAME WAS LANCELOT MUPARARANO\""
      ]
     },
     "execution_count": 8,
     "metadata": {},
     "output_type": "execute_result"
    }
   ],
   "source": [
    "#Working out what each attribute does\n",
    "name =\"Lancelot Mupararano\"\n",
    "f\"My father's name was {name}\".upper()"
   ]
  },
  {
   "cell_type": "code",
   "execution_count": 11,
   "id": "cc962d11-3baf-4337-9674-9099fddde665",
   "metadata": {},
   "outputs": [
    {
     "data": {
      "text/plain": [
       "\"my father's name was lancelot mupararano\""
      ]
     },
     "execution_count": 11,
     "metadata": {},
     "output_type": "execute_result"
    }
   ],
   "source": [
    "f'My father\\'s name was {name}'.lower()"
   ]
  },
  {
   "cell_type": "code",
   "execution_count": 12,
   "id": "79b02344-8f0b-4dd7-b005-085c0520b42e",
   "metadata": {},
   "outputs": [
    {
     "data": {
      "text/plain": [
       "\"My Father'S Name Was Lancelot Mupararano\""
      ]
     },
     "execution_count": 12,
     "metadata": {},
     "output_type": "execute_result"
    }
   ],
   "source": [
    "f\"My father's name was {name}\".title()"
   ]
  },
  {
   "cell_type": "code",
   "execution_count": 13,
   "id": "3c611b10-a8e4-4d42-9baa-1cde829263c8",
   "metadata": {},
   "outputs": [
    {
     "data": {
      "text/plain": [
       "['My', \"father's\", 'name', 'was', 'Lancelot', 'Mupararano']"
      ]
     },
     "execution_count": 13,
     "metadata": {},
     "output_type": "execute_result"
    }
   ],
   "source": [
    "f\"My father's name was {name}\".rsplit()"
   ]
  },
  {
   "cell_type": "code",
   "execution_count": 15,
   "id": "47444d59-b0d3-4c64-b3cd-631fd9674215",
   "metadata": {},
   "outputs": [
    {
     "data": {
      "text/plain": [
       "\"LMy father's name was Lancelot MupararanoaMy father's name was Lancelot MupararanonMy father's name was Lancelot MupararanocMy father's name was Lancelot MupararanoeMy father's name was Lancelot MupararanolMy father's name was Lancelot MupararanooMy father's name was Lancelot MupararanotMy father's name was Lancelot Mupararano My father's name was Lancelot MupararanoMMy father's name was Lancelot MupararanouMy father's name was Lancelot MupararanopMy father's name was Lancelot MupararanoaMy father's name was Lancelot MupararanorMy father's name was Lancelot MupararanoaMy father's name was Lancelot MupararanorMy father's name was Lancelot MupararanoaMy father's name was Lancelot MupararanonMy father's name was Lancelot Mupararanoo\""
      ]
     },
     "execution_count": 15,
     "metadata": {},
     "output_type": "execute_result"
    }
   ],
   "source": [
    "f\"My father's name was {name}\".join(name)"
   ]
  },
  {
   "cell_type": "code",
   "execution_count": 16,
   "id": "abb85049-4a37-46db-a5b2-f6377b87ed03",
   "metadata": {},
   "outputs": [
    {
     "data": {
      "text/plain": [
       "False"
      ]
     },
     "execution_count": 16,
     "metadata": {},
     "output_type": "execute_result"
    }
   ],
   "source": [
    "f\"My father's name was {name}\".isupper()"
   ]
  },
  {
   "cell_type": "code",
   "execution_count": 17,
   "id": "c8c42a4c-72aa-43da-b84f-c3a9c3f13b36",
   "metadata": {},
   "outputs": [
    {
     "data": {
      "text/plain": [
       "False"
      ]
     },
     "execution_count": 17,
     "metadata": {},
     "output_type": "execute_result"
    }
   ],
   "source": [
    "f\"My father's name was {name}\".isdigit()\n"
   ]
  },
  {
   "cell_type": "code",
   "execution_count": 21,
   "id": "1abf769c-1bf3-4a42-81a5-c11a670dcc22",
   "metadata": {},
   "outputs": [
    {
     "data": {
      "text/plain": [
       "True"
      ]
     },
     "execution_count": 21,
     "metadata": {},
     "output_type": "execute_result"
    }
   ],
   "source": [
    "f\"My father's name was {name}\".endswith(\"o\")"
   ]
  },
  {
   "cell_type": "code",
   "execution_count": null,
   "id": "5d7ee4b5-8859-46f2-afa1-175dd2c9711f",
   "metadata": {},
   "outputs": [],
   "source": []
  },
  {
   "cell_type": "code",
   "execution_count": null,
   "id": "ad582f4f-2190-40a4-a6b6-9f9c98506e96",
   "metadata": {},
   "outputs": [],
   "source": []
  },
  {
   "cell_type": "code",
   "execution_count": null,
   "id": "ffe96fd6-c9e9-43ca-bf3d-48c1a81466cf",
   "metadata": {},
   "outputs": [],
   "source": []
  },
  {
   "cell_type": "code",
   "execution_count": null,
   "id": "c75fd2c0-938e-485c-8be9-fc040c689800",
   "metadata": {},
   "outputs": [],
   "source": []
  },
  {
   "cell_type": "code",
   "execution_count": null,
   "id": "eeab8bff-d847-4085-ab12-3582b0f4266f",
   "metadata": {},
   "outputs": [],
   "source": []
  },
  {
   "cell_type": "code",
   "execution_count": 18,
   "id": "ccd5c06c-84de-4452-8e27-e56bd82e7968",
   "metadata": {},
   "outputs": [
    {
     "data": {
      "text/plain": [
       "['__abs__',\n",
       " '__add__',\n",
       " '__and__',\n",
       " '__bool__',\n",
       " '__ceil__',\n",
       " '__class__',\n",
       " '__delattr__',\n",
       " '__dir__',\n",
       " '__divmod__',\n",
       " '__doc__',\n",
       " '__eq__',\n",
       " '__float__',\n",
       " '__floor__',\n",
       " '__floordiv__',\n",
       " '__format__',\n",
       " '__ge__',\n",
       " '__getattribute__',\n",
       " '__getnewargs__',\n",
       " '__gt__',\n",
       " '__hash__',\n",
       " '__index__',\n",
       " '__init__',\n",
       " '__init_subclass__',\n",
       " '__int__',\n",
       " '__invert__',\n",
       " '__le__',\n",
       " '__lshift__',\n",
       " '__lt__',\n",
       " '__mod__',\n",
       " '__mul__',\n",
       " '__ne__',\n",
       " '__neg__',\n",
       " '__new__',\n",
       " '__or__',\n",
       " '__pos__',\n",
       " '__pow__',\n",
       " '__radd__',\n",
       " '__rand__',\n",
       " '__rdivmod__',\n",
       " '__reduce__',\n",
       " '__reduce_ex__',\n",
       " '__repr__',\n",
       " '__rfloordiv__',\n",
       " '__rlshift__',\n",
       " '__rmod__',\n",
       " '__rmul__',\n",
       " '__ror__',\n",
       " '__round__',\n",
       " '__rpow__',\n",
       " '__rrshift__',\n",
       " '__rshift__',\n",
       " '__rsub__',\n",
       " '__rtruediv__',\n",
       " '__rxor__',\n",
       " '__setattr__',\n",
       " '__sizeof__',\n",
       " '__str__',\n",
       " '__sub__',\n",
       " '__subclasshook__',\n",
       " '__truediv__',\n",
       " '__trunc__',\n",
       " '__xor__',\n",
       " 'as_integer_ratio',\n",
       " 'bit_length',\n",
       " 'conjugate',\n",
       " 'denominator',\n",
       " 'from_bytes',\n",
       " 'imag',\n",
       " 'numerator',\n",
       " 'real',\n",
       " 'to_bytes']"
      ]
     },
     "execution_count": 18,
     "metadata": {},
     "output_type": "execute_result"
    }
   ],
   "source": [
    "#Finding out about what dir() does on numbers\n",
    "dir(2)"
   ]
  },
  {
   "cell_type": "code",
   "execution_count": null,
   "id": "ad4c490d-8955-4aa3-ad35-10ce00903e05",
   "metadata": {},
   "outputs": [],
   "source": []
  },
  {
   "cell_type": "code",
   "execution_count": 28,
   "id": "104b3821-9751-4cb6-83f4-9e52b1e5130a",
   "metadata": {},
   "outputs": [
    {
     "data": {
      "text/plain": [
       "\"what's th3 d3al with lampshad3s? i m3an if it's a lamp, why do you want a shad3?\""
      ]
     },
     "execution_count": 28,
     "metadata": {},
     "output_type": "execute_result"
    }
   ],
   "source": [
    "#Replace commas with something for example empty spaces or \".\"\n",
    "quote_1=\"Oh I gotta get on that internet, I'm late for everything.\"\n",
    "quote_1.lower().replace(\",\", \"&\")\n",
    "              \n",
    "#Replace \"e\" with 3\n",
    "quote_2=\"What's the deal with lampshades? I mean if it's a lamp, why do you want a shade?\"\n",
    "quote_2.lower().replace(\"e\", \"3\")\n"
   ]
  },
  {
   "cell_type": "code",
   "execution_count": null,
   "id": "f3f46c33-b133-4a97-b59d-8eeafb808e56",
   "metadata": {},
   "outputs": [],
   "source": []
  },
  {
   "cell_type": "code",
   "execution_count": 29,
   "id": "2b69907b-717e-445d-8fdd-3fe35d9264a6",
   "metadata": {},
   "outputs": [
    {
     "data": {
      "text/plain": [
       "True"
      ]
     },
     "execution_count": 29,
     "metadata": {},
     "output_type": "execute_result"
    }
   ],
   "source": [
    "#in\n",
    "\"g\" in \"good\""
   ]
  },
  {
   "cell_type": "code",
   "execution_count": 30,
   "id": "74296ab7-aa54-41ff-a342-27254d7205c7",
   "metadata": {},
   "outputs": [
    {
     "data": {
      "text/plain": [
       "False"
      ]
     },
     "execution_count": 30,
     "metadata": {},
     "output_type": "execute_result"
    }
   ],
   "source": [
    "\"g\" in \"GOOD\""
   ]
  },
  {
   "cell_type": "code",
   "execution_count": 31,
   "id": "1a45a859-daa0-4763-8fd2-42761083d34f",
   "metadata": {},
   "outputs": [
    {
     "data": {
      "text/plain": [
       "True"
      ]
     },
     "execution_count": 31,
     "metadata": {},
     "output_type": "execute_result"
    }
   ],
   "source": [
    "\"Good\".lower() in \"good day!\""
   ]
  },
  {
   "cell_type": "code",
   "execution_count": null,
   "id": "44fcc00a-6630-477a-99ae-781cab44e75b",
   "metadata": {},
   "outputs": [],
   "source": []
  }
 ],
 "metadata": {
  "kernelspec": {
   "display_name": "Python 3",
   "language": "python",
   "name": "python3"
  },
  "language_info": {
   "codemirror_mode": {
    "name": "ipython",
    "version": 3
   },
   "file_extension": ".py",
   "mimetype": "text/x-python",
   "name": "python",
   "nbconvert_exporter": "python",
   "pygments_lexer": "ipython3",
   "version": "3.10.8 (tags/v3.10.8:aaaf517, Oct 11 2022, 16:50:30) [MSC v.1933 64 bit (AMD64)]"
  },
  "vscode": {
   "interpreter": {
    "hash": "78d8b877212ca64e6e719fcdbe7d5bfed92fa32867a6a1f90d4bc12a4fb0e6ce"
   }
  }
 },
 "nbformat": 4,
 "nbformat_minor": 5
}
