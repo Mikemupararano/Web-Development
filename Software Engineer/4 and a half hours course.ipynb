{
 "cells": [
  {
   "cell_type": "code",
   "execution_count": null,
   "id": "282c7292",
   "metadata": {},
   "outputs": [
    {
     "ename": "",
     "evalue": "",
     "output_type": "error",
     "traceback": [
      "\u001b[1;31mRunning cells with 'c:\\Users\\1Thomas\\AppData\\Local\\Programs\\Python\\Python310\\python.exe' requires ipykernel package.\n",
      "\u001b[1;31mRun the following command to install 'ipykernel' into the Python environment. \n",
      "\u001b[1;31mCommand: 'c:/Users/1Thomas/AppData/Local/Programs/Python/Python310/python.exe -m pip install ipykernel -U --user --force-reinstall'"
     ]
    }
   ],
   "source": [
    "#Draw a shape (triangle)\n",
    "print(\"      /|\")\n",
    "print(\"     / |\")\n",
    "print(\"    /  |\")\n",
    "print(\"   /   |\")\n",
    "print(\"  /    |\")\n",
    "print(\" /____ |\")"
   ]
  },
  {
   "cell_type": "code",
   "execution_count": null,
   "id": "d32d84f7",
   "metadata": {},
   "outputs": [
    {
     "ename": "",
     "evalue": "",
     "output_type": "error",
     "traceback": [
      "\u001b[1;31mRunning cells with 'c:\\Users\\1Thomas\\AppData\\Local\\Programs\\Python\\Python310\\python.exe' requires ipykernel package.\n",
      "\u001b[1;31mRun the following command to install 'ipykernel' into the Python environment. \n",
      "\u001b[1;31mCommand: 'c:/Users/1Thomas/AppData/Local/Programs/Python/Python310/python.exe -m pip install ipykernel -U --user --force-reinstall'"
     ]
    }
   ],
   "source": [
    "2+4"
   ]
  },
  {
   "cell_type": "code",
   "execution_count": null,
   "id": "af5eab81",
   "metadata": {},
   "outputs": [],
   "source": []
  },
  {
   "cell_type": "markdown",
   "id": "ed4635a9",
   "metadata": {},
   "source": []
  },
  {
   "cell_type": "code",
   "execution_count": 3,
   "id": "6e92fcfb",
   "metadata": {},
   "outputs": [
    {
     "name": "stdout",
     "output_type": "stream",
     "text": [
      "Mike\n",
      "Thomas\n"
     ]
    }
   ],
   "source": [
    "print(\"Mike\\nThomas\")"
   ]
  },
  {
   "cell_type": "code",
   "execution_count": 5,
   "id": "a2381d2c",
   "metadata": {},
   "outputs": [
    {
     "name": "stdout",
     "output_type": "stream",
     "text": [
      "Chakanetsa\" is our sekuru\n"
     ]
    }
   ],
   "source": [
    "print(\"Chakanetsa\\\" is our sekuru\")"
   ]
  },
  {
   "cell_type": "code",
   "execution_count": 3,
   "id": "463aa2ee",
   "metadata": {},
   "outputs": [
    {
     "name": "stdout",
     "output_type": "stream",
     "text": [
      "Rushinga is in Mt Darwin. Mt Darwin is in Mashonaland Central.\n",
      "0\n",
      "False\n"
     ]
    },
    {
     "data": {
      "text/plain": [
       "'Rushinga is in Mozambique.'"
      ]
     },
     "execution_count": 3,
     "metadata": {},
     "output_type": "execute_result"
    }
   ],
   "source": [
    "phrase=\"Rushinga is in Mt Darwin.\"\n",
    "print(phrase + \" \"  \"Mt Darwin is in Mashonaland Central.\")\n",
    "print(phrase.index(\"R\"))\n",
    "print(phrase.upper().islower())\n",
    "phrase.replace(\"Mt Darwin\", \"Mozambique\")\n"
   ]
  },
  {
   "cell_type": "code",
   "execution_count": 3,
   "id": "489176a5",
   "metadata": {},
   "outputs": [
    {
     "name": "stdout",
     "output_type": "stream",
     "text": [
      "5\n",
      "8\n",
      "8\n"
     ]
    }
   ],
   "source": [
    "num_var=-5\n",
    "print(abs(num_var))\n",
    "print(pow(2,3))\n",
    "print(2**3)"
   ]
  },
  {
   "cell_type": "code",
   "execution_count": 5,
   "id": "6868aa3e",
   "metadata": {},
   "outputs": [
    {
     "name": "stdout",
     "output_type": "stream",
     "text": [
      "4\n",
      "5\n"
     ]
    }
   ],
   "source": [
    "print(round(4.2))\n",
    "print(round(4.7))"
   ]
  },
  {
   "cell_type": "code",
   "execution_count": 7,
   "id": "a5f8f4e6",
   "metadata": {},
   "outputs": [
    {
     "name": "stdout",
     "output_type": "stream",
     "text": [
      "4\n",
      "4\n"
     ]
    }
   ],
   "source": [
    "from math import *\n",
    "print(ceil(3.5))\n",
    "print(ceil(3.2))"
   ]
  },
  {
   "cell_type": "code",
   "execution_count": 8,
   "id": "b4ff03dd",
   "metadata": {},
   "outputs": [
    {
     "name": "stdout",
     "output_type": "stream",
     "text": [
      "2.0\n"
     ]
    }
   ],
   "source": [
    "print(sqrt(4))"
   ]
  },
  {
   "cell_type": "code",
   "execution_count": 5,
   "id": "8ab25381",
   "metadata": {},
   "outputs": [
    {
     "name": "stdout",
     "output_type": "stream",
     "text": [
      "Enter your name: Mike Thomas\n",
      "Enter your district: Rushinga\n",
      "Mike Thomas was born in Rushinga.\n"
     ]
    }
   ],
   "source": [
    "#MadLibs\n",
    "name=input(\"Enter your name: \")\n",
    "district=input(\"Enter your district: \")\n",
    "print(name +\" \" \"was born in\" +\" \"+ district+\".\")"
   ]
  },
  {
   "cell_type": "code",
   "execution_count": 1,
   "id": "a6d1b418",
   "metadata": {},
   "outputs": [
    {
     "name": "stdout",
     "output_type": "stream",
     "text": [
      "None\n"
     ]
    }
   ],
   "source": [
    "#Lists\n",
    "friends_list=[\"Mike\", \"Madhara\", \"Ndikiye\", \"Martin\", \"Biggie\"]\n",
    "num_list=[10, 20, 30, 40, 50, 60]\n",
    "print(num_list.extend(friends_list))\n"
   ]
  },
  {
   "cell_type": "code",
   "execution_count": 9,
   "id": "576168ba",
   "metadata": {},
   "outputs": [
    {
     "name": "stdout",
     "output_type": "stream",
     "text": [
      "You are a male, or tall or both.\n"
     ]
    }
   ],
   "source": [
    "#If statements\n",
    "is_male=True\n",
    "is_tall=True\n",
    "if is_male or is_tall:\n",
    "    print(\"You are a male, or tall or both.\")\n",
    "elif is_male and not (is_tall):\n",
    "    print(\"You are a short male\")\n",
    "else:\n",
    "    print(\"You are neither male nor tall.\")\n",
    "    "
   ]
  },
  {
   "cell_type": "code",
   "execution_count": null,
   "id": "d71bb556",
   "metadata": {},
   "outputs": [],
   "source": []
  },
  {
   "cell_type": "code",
   "execution_count": 11,
   "id": "47ae55ac",
   "metadata": {},
   "outputs": [],
   "source": [
    "#Finding the maximum beteen 3 numbers\n",
    "def max_num(num_1, num_2, num_3):\n",
    "    if num_1>=num_2 and num_1>=num_3:\n",
    "        return num_1\n",
    "    elif num_2>=num_1 and num_2>= num_3:\n",
    "        return num_2\n",
    "    else:\n",
    "        return num_3\n",
    "    "
   ]
  },
  {
   "cell_type": "code",
   "execution_count": 12,
   "id": "2aebec94",
   "metadata": {},
   "outputs": [
    {
     "name": "stdout",
     "output_type": "stream",
     "text": [
      "5\n"
     ]
    }
   ],
   "source": [
    "print(max_num(5,5,2))"
   ]
  },
  {
   "cell_type": "code",
   "execution_count": 24,
   "id": "89896fd2",
   "metadata": {},
   "outputs": [
    {
     "name": "stdout",
     "output_type": "stream",
     "text": [
      "Enter the first number: 4\n",
      "Enter an operator: *\n",
      "Enter the second number: 3\n",
      "12.0\n"
     ]
    }
   ],
   "source": [
    "#Building a calculator\n",
    "num1=float(input(\"Enter the first number: \"))\n",
    "operator=input(\"Enter an operator: \")\n",
    "num2=float(input(\"Enter the second number: \"))\n",
    "if operator==\"+\":\n",
    "    print(num1 +num2)\n",
    "elif operator ==\"-\":\n",
    "    print(num2-num1)\n",
    "elif operator==\"/\":\n",
    "    print(num2/num1)\n",
    "elif operator==\"*\":\n",
    "    print(num1 * num2)\n",
    "else:\n",
    "    print(\"You have entered an invalid operator. Try agin using a different operator such as: +,/,x or -.\")"
   ]
  },
  {
   "cell_type": "code",
   "execution_count": 11,
   "id": "a93ecbcf",
   "metadata": {},
   "outputs": [
    {
     "name": "stdout",
     "output_type": "stream",
     "text": [
      "January\n",
      "November\n",
      "July\n",
      "December\n"
     ]
    }
   ],
   "source": [
    "#Month conversion\n",
    "month_conversion={\n",
    "    \"Jan\": \"January\",\n",
    "    \"Feb\": \"February\",\n",
    "    \"Mar\": \"March\",\n",
    "    \"Apr\": \"April\",\n",
    "    \"May\": \"May\",\n",
    "    \"Jun\": \"June\",\n",
    "    \"Jul\": \"July\",\n",
    "    \"Aug\": \"August\",\n",
    "    \"Sep\": \"September\",\n",
    "    \"Oct\": \"October\",\n",
    "    \"Nov\": \"November\",\n",
    "    \"Dec\": \"December\"\n",
    "  }\n",
    "\n",
    "print(month_conversion[\"Jan\"])\n",
    "print(month_conversion[\"Nov\"])\n",
    "print(month_conversion[\"Jul\"])\n",
    "print(month_conversion.get(\"Dec\"))"
   ]
  },
  {
   "cell_type": "code",
   "execution_count": 12,
   "id": "afa87adc",
   "metadata": {},
   "outputs": [
    {
     "name": "stdout",
     "output_type": "stream",
     "text": [
      "1\n",
      "2\n",
      "3\n",
      "4\n",
      "5\n",
      "6\n",
      "7\n",
      "8\n",
      "9\n",
      "10\n",
      "End of this while loop.\n"
     ]
    }
   ],
   "source": [
    "#While Loop\n",
    "i=1\n",
    "while i<=10:\n",
    "    print(i)\n",
    "    i+=1\n",
    "print(\"End of this while loop.\")"
   ]
  },
  {
   "cell_type": "code",
   "execution_count": null,
   "id": "14455a10",
   "metadata": {},
   "outputs": [],
   "source": []
  },
  {
   "cell_type": "code",
   "execution_count": 17,
   "id": "33ec3786",
   "metadata": {},
   "outputs": [
    {
     "name": "stdout",
     "output_type": "stream",
     "text": [
      "Guess word: mike\n",
      "Guess word: giraffe\n",
      "You have won.\n"
     ]
    }
   ],
   "source": [
    "#Secret word guess game\n",
    "secret_word=\"giraffe\"\n",
    "guess=\"\"\n",
    "while guess!=secret_word:\n",
    "    guess=input(\"Guess word: \")\n",
    "print(\"You have won.\")"
   ]
  },
  {
   "cell_type": "code",
   "execution_count": null,
   "id": "d3ebb4d0",
   "metadata": {},
   "outputs": [],
   "source": []
  },
  {
   "cell_type": "code",
   "execution_count": 1,
   "id": "6d265258",
   "metadata": {},
   "outputs": [
    {
     "name": "stdout",
     "output_type": "stream",
     "text": [
      "Mike\n",
      "Clifford\n",
      "Dzenhu\n",
      " Duggie\n",
      "Teedzia\n",
      "5\n",
      "5\n"
     ]
    }
   ],
   "source": [
    "#For loops\n",
    "count=0\n",
    "friends_list=[\"Mike\", \"Clifford\", \"Dzenhu\", \" Duggie\", \"Teedzia\"]\n",
    "for friend in friends_list:\n",
    "    print(friend)\n",
    "    count=count+1\n",
    "print(count)\n",
    "print(len(friends_list))\n",
    "    "
   ]
  },
  {
   "cell_type": "code",
   "execution_count": 6,
   "id": "cf2b4dc4",
   "metadata": {},
   "outputs": [
    {
     "data": {
      "text/plain": [
       "10000"
      ]
     },
     "execution_count": 6,
     "metadata": {},
     "output_type": "execute_result"
    }
   ],
   "source": [
    "def powercalc(base, power):\n",
    "    return base**power\n",
    "\n",
    "powercalc(10,4)\n"
   ]
  },
  {
   "cell_type": "code",
   "execution_count": 11,
   "id": "1010a817",
   "metadata": {},
   "outputs": [
    {
     "name": "stdout",
     "output_type": "stream",
     "text": [
      "[1, 2, 3]\n",
      "[4, 5, 6]\n",
      "[7, 8, 9]\n",
      "[0]\n",
      "[[1, 2, 3], [4, 5, 6], [7, 8, 9], [0]]\n"
     ]
    }
   ],
   "source": [
    "#Nested Loops\n",
    "number_grid=[\n",
    "  [1,2,3],  \n",
    "  [4,5,6],\n",
    "  [7,8,9],\n",
    "  [0]\n",
    "  ]\n",
    "for row in number_grid:\n",
    "    print(row)\n",
    "print(number_grid)"
   ]
  },
  {
   "cell_type": "code",
   "execution_count": 8,
   "id": "ce41119d",
   "metadata": {},
   "outputs": [
    {
     "name": "stdout",
     "output_type": "stream",
     "text": [
      "Division by zero error\n"
     ]
    }
   ],
   "source": [
    "#Try Except for handling errors\n",
    "try:\n",
    "    10/0\n",
    "    number=int(input(\"Enter a number: \"))\n",
    "    print(number)\n",
    "except ZeroDivisionError:\n",
    "    print(\"Division by zero error\")\n",
    "except Invalidinput:\n",
    "    print(\"You have entered an invalid input, try again using a whole number.\")\n",
    "\n",
    "        "
   ]
  },
  {
   "cell_type": "code",
   "execution_count": 24,
   "id": "1f6b3a4d",
   "metadata": {
    "scrolled": true
   },
   "outputs": [
    {
     "ename": "ModuleNotFoundError",
     "evalue": "No module named 'docx'",
     "output_type": "error",
     "traceback": [
      "\u001b[1;31m---------------------------------------------------------------------------\u001b[0m",
      "\u001b[1;31mModuleNotFoundError\u001b[0m                       Traceback (most recent call last)",
      "\u001b[1;32m~\\AppData\\Local\\Temp/ipykernel_15260/299783543.py\u001b[0m in \u001b[0;36m<module>\u001b[1;34m\u001b[0m\n\u001b[1;32m----> 1\u001b[1;33m \u001b[1;32mimport\u001b[0m \u001b[0mdocx\u001b[0m\u001b[1;33m\u001b[0m\u001b[1;33m\u001b[0m\u001b[0m\n\u001b[0m\u001b[0;32m      2\u001b[0m \u001b[0mmy_siblings\u001b[0m\u001b[1;33m=\u001b[0m\u001b[0mopen\u001b[0m\u001b[1;33m(\u001b[0m\u001b[1;34m\"MT siblings.docx\"\u001b[0m\u001b[1;33m,\u001b[0m \u001b[1;34m\"a\"\u001b[0m\u001b[1;33m)\u001b[0m\u001b[1;33m\u001b[0m\u001b[1;33m\u001b[0m\u001b[0m\n\u001b[0;32m      3\u001b[0m \u001b[0mprint\u001b[0m\u001b[1;33m(\u001b[0m\u001b[0mmy_siblings\u001b[0m\u001b[1;33m.\u001b[0m\u001b[0mwrite\u001b[0m\u001b[1;33m(\u001b[0m\u001b[1;34m\"Madhara\"\u001b[0m\u001b[1;33m)\u001b[0m\u001b[1;33m)\u001b[0m\u001b[1;33m\u001b[0m\u001b[1;33m\u001b[0m\u001b[0m\n\u001b[0;32m      4\u001b[0m \u001b[0mmy_siblings\u001b[0m\u001b[1;33m.\u001b[0m\u001b[0mclose\u001b[0m\u001b[1;33m(\u001b[0m\u001b[1;33m)\u001b[0m\u001b[1;33m\u001b[0m\u001b[1;33m\u001b[0m\u001b[0m\n",
      "\u001b[1;31mModuleNotFoundError\u001b[0m: No module named 'docx'"
     ]
    }
   ],
   "source": [
    "import docx\n",
    "my_siblings=open(\"MT siblings.docx\", \"a\")\n",
    "print(my_siblings.write(\"Madhara\"))\n",
    "my_siblings.close()"
   ]
  },
  {
   "cell_type": "code",
   "execution_count": null,
   "id": "1a2b8db2",
   "metadata": {},
   "outputs": [],
   "source": []
  },
  {
   "cell_type": "code",
   "execution_count": null,
   "id": "9c4dcb94",
   "metadata": {},
   "outputs": [],
   "source": []
  }
 ],
 "metadata": {
  "celltoolbar": "Raw Cell Format",
  "kernelspec": {
   "display_name": "Python 3",
   "language": "python",
   "name": "python3"
  },
  "language_info": {
   "codemirror_mode": {
    "name": "ipython",
    "version": 3
   },
   "file_extension": ".py",
   "mimetype": "text/x-python",
   "name": "python",
   "nbconvert_exporter": "python",
   "pygments_lexer": "ipython3",
   "version": "3.10.8 (tags/v3.10.8:aaaf517, Oct 11 2022, 16:50:30) [MSC v.1933 64 bit (AMD64)]"
  },
  "vscode": {
   "interpreter": {
    "hash": "78d8b877212ca64e6e719fcdbe7d5bfed92fa32867a6a1f90d4bc12a4fb0e6ce"
   }
  }
 },
 "nbformat": 4,
 "nbformat_minor": 5
}
